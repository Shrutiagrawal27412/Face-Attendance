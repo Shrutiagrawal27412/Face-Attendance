{
 "cells": [
  {
   "cell_type": "code",
   "execution_count": 20,
   "metadata": {},
   "outputs": [],
   "source": [
    "import cv2 #image processing \n",
    "import os #used for interacting with os, we need to access file path\n"
   ]
  },
  {
   "cell_type": "code",
   "execution_count": 26,
   "metadata": {},
   "outputs": [],
   "source": [
    "def assure_path_exist(path):\n",
    "    dir=os.path.dirname(path)\n",
    "    if not os.path.exists(dir):\n",
    "        os.makedirs(dir)"
   ]
  },
  {
   "cell_type": "code",
   "execution_count": 34,
   "metadata": {},
   "outputs": [],
   "source": [
    "face_id= input(\"Enter your id :\")\n"
   ]
  },
  {
   "cell_type": "code",
   "execution_count": 35,
   "metadata": {},
   "outputs": [],
   "source": [
    "vid_cam= cv2.VideoCapture(0)\n",
    "#webcam ip add 0 of this laptop"
   ]
  },
  {
   "cell_type": "code",
   "execution_count": 36,
   "metadata": {},
   "outputs": [],
   "source": [
    "face_detector = cv2.CascadeClassifier('D:/OneDrive/Desktop/project2/haarcascade_frontalface_default.xml')"
   ]
  },
  {
   "cell_type": "code",
   "execution_count": 38,
   "metadata": {},
   "outputs": [
    {
     "ename": "error",
     "evalue": "OpenCV(4.10.0) D:\\a\\opencv-python\\opencv-python\\opencv\\modules\\imgproc\\src\\color.cpp:196: error: (-215:Assertion failed) !_src.empty() in function 'cv::cvtColor'\n",
     "output_type": "error",
     "traceback": [
      "\u001b[1;31m---------------------------------------------------------------------------\u001b[0m",
      "\u001b[1;31merror\u001b[0m                                     Traceback (most recent call last)",
      "Cell \u001b[1;32mIn[38], line 6\u001b[0m\n\u001b[0;32m      4\u001b[0m \u001b[38;5;28;01mwhile\u001b[39;00m(\u001b[38;5;28;01mTrue\u001b[39;00m):\n\u001b[0;32m      5\u001b[0m     _, image_frame \u001b[38;5;241m=\u001b[39m vid_cam\u001b[38;5;241m.\u001b[39mread()\n\u001b[1;32m----> 6\u001b[0m     gray \u001b[38;5;241m=\u001b[39m \u001b[43mcv2\u001b[49m\u001b[38;5;241;43m.\u001b[39;49m\u001b[43mcvtColor\u001b[49m\u001b[43m(\u001b[49m\u001b[43mimage_frame\u001b[49m\u001b[43m,\u001b[49m\u001b[43m \u001b[49m\u001b[43mcv2\u001b[49m\u001b[38;5;241;43m.\u001b[39;49m\u001b[43mCOLOR_BGR2GRAY\u001b[49m\u001b[43m)\u001b[49m\n\u001b[0;32m      8\u001b[0m     faces\u001b[38;5;241m=\u001b[39m face_detector\u001b[38;5;241m.\u001b[39mdetectMultiScale(gray,\u001b[38;5;241m1.3\u001b[39m,\u001b[38;5;241m5\u001b[39m )\n\u001b[0;32m     10\u001b[0m     \u001b[38;5;28;01mfor\u001b[39;00m(x,y,w,h) \u001b[38;5;129;01min\u001b[39;00m faces:\n",
      "\u001b[1;31merror\u001b[0m: OpenCV(4.10.0) D:\\a\\opencv-python\\opencv-python\\opencv\\modules\\imgproc\\src\\color.cpp:196: error: (-215:Assertion failed) !_src.empty() in function 'cv::cvtColor'\n"
     ]
    }
   ],
   "source": [
    "count= 0 #track of no. of images captured\n",
    "assure_path_exist(\"dataset/\")\n",
    "\n",
    "while(True):\n",
    "    _, image_frame = vid_cam.read()\n",
    "    gray = cv2.cvtColor(image_frame, cv2.COLOR_BGR2GRAY)\n",
    "\n",
    "    faces= face_detector.detectMultiScale(gray,1.3,5 )\n",
    "\n",
    "    for(x,y,w,h) in faces:\n",
    "        cv2.rectangle(image_frame, (x,y), (x+w, y+h), (255,0,0), 2)\n",
    "\n",
    "        #will draw rectangle around image\n",
    "        count+=1\n",
    "        #image capture hoti jaengi to count will inc\n",
    "        cv2.imwrite(\"dataset/User.\" + str(face_id) + '.' + str(count) + \".jpg\", gray[y:y+h, x:x+w])\n",
    "            #saving the file in directory\n",
    "\n",
    "        cv2.imshow('frame', image_frame)\n",
    "        #shows face within rectangle\n",
    "\n",
    "#breaking the loop\n",
    "    if cv2.waitKey(100) & 0xFF ==ord('q'):\n",
    "        break\n",
    "\n",
    "    #100ms break, q key- quit\n",
    "\n",
    "    elif count>=50:\n",
    "        print(\"Success\")\n",
    "        break\n",
    "vid_cam.release() #stops from capturing\n",
    "cv2.destroyAllWindows() #when all conditions met, camera wali window (vid_cam), it will destroy that\n",
    "    "
   ]
  },
  {
   "cell_type": "code",
   "execution_count": null,
   "metadata": {},
   "outputs": [],
   "source": []
  },
  {
   "cell_type": "code",
   "execution_count": null,
   "metadata": {},
   "outputs": [],
   "source": []
  },
  {
   "cell_type": "code",
   "execution_count": null,
   "metadata": {},
   "outputs": [],
   "source": []
  }
 ],
 "metadata": {
  "kernelspec": {
   "display_name": "Python 3",
   "language": "python",
   "name": "python3"
  },
  "language_info": {
   "codemirror_mode": {
    "name": "ipython",
    "version": 3
   },
   "file_extension": ".py",
   "mimetype": "text/x-python",
   "name": "python",
   "nbconvert_exporter": "python",
   "pygments_lexer": "ipython3",
   "version": "3.12.2"
  }
 },
 "nbformat": 4,
 "nbformat_minor": 2
}
